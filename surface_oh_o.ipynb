{
 "cells": [
  {
   "cell_type": "code",
   "execution_count": 1,
   "metadata": {},
   "outputs": [
    {
     "data": {
      "application/vnd.jupyter.widget-view+json": {
       "model_id": "2497f4391e1b4438ac253e377eb1e2c3",
       "version_major": 2,
       "version_minor": 0
      },
      "text/plain": []
     },
     "metadata": {},
     "output_type": "display_data"
    }
   ],
   "source": [
    "import nglview\n",
    "import numpy as np\n",
    "from ase.io import write, read\n",
    "from ase import Atoms, Atom, build\n",
    "from ase.build import make_supercell, sort\n",
    "from ase.visualize import view"
   ]
  },
  {
   "cell_type": "raw",
   "metadata": {},
   "source": [
    "%cd raw\n",
    "str = read('output.out', format ='espresso-out')\n",
    "%cd .."
   ]
  },
  {
   "cell_type": "code",
   "execution_count": 3,
   "metadata": {},
   "outputs": [],
   "source": [
    "#to make supercell; copy slabs\n",
    "t_matrix = [[2, 0, 0],\n",
    "            [0, 2, 0],\n",
    "            [0, 0, 1]]\n",
    "supercell = make_supercell(str,t_matrix)\n",
    "supercell.set_pbc((True, True, False))\n",
    "\n",
    "slab = ['slab1', 'slab2', 'slab3', 'slab4']\n",
    "for name in slab:\n",
    "    globals()[name] = Atoms(supercell)"
   ]
  },
  {
   "cell_type": "code",
   "execution_count": 4,
   "metadata": {},
   "outputs": [
    {
     "name": "stdout",
     "output_type": "stream",
     "text": [
      "(array([ 4, 17, 30, 43]),) (array([ 3, 16, 29, 42]),)\n"
     ]
    }
   ],
   "source": [
    "#to index the atomic number of max/min height atoms\n",
    "atom_position = np.array(supercell.get_scaled_positions())\n",
    "max_h = np.where(atom_position[:,2] == np.max(atom_position[:,2]))\n",
    "min_h = np.where(atom_position[:,2] == np.min(atom_position[:,2]))\n",
    "print(max_h,min_h)"
   ]
  },
  {
   "cell_type": "code",
   "execution_count": 5,
   "metadata": {},
   "outputs": [
    {
     "name": "stdout",
     "output_type": "stream",
     "text": [
      "/home/taehun/project_curho2/surf/surface_pourbaix/template_cu_ter/h\n",
      "/home/taehun/project_curho2/surf/surface_pourbaix/template_cu_ter\n"
     ]
    }
   ],
   "source": [
    "#defining adsorbate atoms\n",
    "d = 1.2\n",
    "\n",
    "#adding H, 0.25 ML\n",
    "number = 4\n",
    "slab1.append(Atom('H', slab1[number].position + (0., 0., d)))\n",
    "number = 3\n",
    "slab1.append(Atom('H', slab1[number].position - (0., 0., d)))\n",
    "\n",
    "#adding H, 0.50 ML\n",
    "for number in 4, 17:\n",
    "    slab2.append(Atom('H', slab2[number].position + (0., 0., d)))\n",
    "for number in 3, 16: \n",
    "    slab2.append(Atom('H', slab2[number].position - (0., 0., d)))\n",
    "\n",
    "#adding H, 0.75 ML\n",
    "for number in 4, 17, 30:\n",
    "    slab3.append(Atom('H', slab3[number].position + (0., 0., d)))\n",
    "for number in 3, 16, 29: \n",
    "    slab3.append(Atom('H', slab3[number].position - (0., 0., d)))    \n",
    "    \n",
    "#adding H, 1 ML\n",
    "for number in 4, 17, 30, 43:\n",
    "    slab4.append(Atom('H', slab4[number].position + (0., 0., d)))\n",
    "for number in 3, 16, 29, 42: \n",
    "    slab4.append(Atom('H', slab4[number].position - (0., 0., d)))\n",
    "\n",
    "#write vasp file\n",
    "%mkdir h\n",
    "%cd h\n",
    "for f_name in slab:\n",
    "    #reordering structure sequences\n",
    "    globals()[f_name] = sort(globals()[f_name])\n",
    "#    view(globals()[f_name])\n",
    "    write('{}_H.vasp'.format(f_name) , globals()[f_name], vasp5 = True)\n",
    "%cd .."
   ]
  },
  {
   "cell_type": "code",
   "execution_count": 6,
   "metadata": {},
   "outputs": [
    {
     "name": "stdout",
     "output_type": "stream",
     "text": [
      "/home/taehun/project_curho2/surf/surface_pourbaix/template_cu_ter/oh\n",
      "/home/taehun/project_curho2/surf/surface_pourbaix/template_cu_ter\n"
     ]
    }
   ],
   "source": [
    "#initialization\n",
    "slab = ['slab1', 'slab2', 'slab3', 'slab4']\n",
    "for name in slab:\n",
    "    globals()[name] = Atoms(supercell)\n",
    "#    view(globals()[name])\n",
    "\n",
    "#defining adsorbate atoms\n",
    "d = 1.2\n",
    "\n",
    "#adding OH, 0.25 ML\n",
    "number = 4\n",
    "slab1.append(Atom('O', slab1[number].position + (0., 0., d)))\n",
    "slab1.append(Atom('H', slab1[number].position + (0., 0., d*2)))\n",
    "number = 3\n",
    "slab1.append(Atom('O', slab1[number].position - (0., 0., d)))\n",
    "slab1.append(Atom('H', slab1[number].position - (0., 0., d*2)))\n",
    "\n",
    "#adding OH, 0.50 ML\n",
    "for number in 4, 17:\n",
    "    slab2.append(Atom('O', slab2[number].position + (0., 0., d)))\n",
    "    slab2.append(Atom('H', slab2[number].position + (0., 0., d*2)))\n",
    "for number in 3, 16: \n",
    "    slab2.append(Atom('O', slab2[number].position - (0., 0., d)))\n",
    "    slab2.append(Atom('H', slab2[number].position - (0., 0., d*2)))\n",
    "\n",
    "#adding OH, 0.75 ML\n",
    "for number in 4, 17, 30:\n",
    "    slab3.append(Atom('O', slab3[number].position + (0., 0., d)))\n",
    "    slab3.append(Atom('H', slab3[number].position + (0., 0., d*2)))\n",
    "for number in 3, 16, 29: \n",
    "    slab3.append(Atom('O', slab3[number].position - (0., 0., d)))\n",
    "    slab3.append(Atom('H', slab3[number].position - (0., 0., d*2)))\n",
    "    \n",
    "#adding OH, 1 ML\n",
    "for number in 4, 17, 30, 43:\n",
    "    slab4.append(Atom('O', slab4[number].position + (0., 0., d)))\n",
    "    slab4.append(Atom('H', slab4[number].position + (0., 0., d*2)))\n",
    "for number in 3, 16, 29, 42: \n",
    "    slab4.append(Atom('O', slab4[number].position - (0., 0., d)))\n",
    "    slab4.append(Atom('H', slab4[number].position - (0., 0., d*2)))\n",
    "\n",
    "#write vasp file\n",
    "%mkdir oh\n",
    "%cd oh\n",
    "for f_name in slab:\n",
    "    #reordering structure sequences\n",
    "    globals()[f_name] = sort(globals()[f_name])\n",
    "    view(globals()[f_name])\n",
    "    write('{}_OH.vasp'.format(f_name) , globals()[f_name], vasp5 = True)\n",
    "%cd .."
   ]
  },
  {
   "cell_type": "code",
   "execution_count": 7,
   "metadata": {},
   "outputs": [
    {
     "name": "stdout",
     "output_type": "stream",
     "text": [
      "/home/taehun/project_curho2/surf/surface_pourbaix/template_cu_ter/oh_o\n",
      "/home/taehun/project_curho2/surf/surface_pourbaix/template_cu_ter\n"
     ]
    }
   ],
   "source": [
    "#initialization\n",
    "slab = ['slab1', 'slab2', 'slab3']\n",
    "for name in slab:\n",
    "    globals()[name] = Atoms(supercell)\n",
    "#view(globals()[name])\n",
    "\n",
    "#defining adsorbate atoms\n",
    "d = 1.2\n",
    "\n",
    "#adding OH, 0.25 ML + O, 0.75 ML\n",
    "number = 4\n",
    "slab1.append(Atom('O', slab1[number].position + (0., 0., d)))\n",
    "slab1.append(Atom('H', slab1[number].position + (0., 0., d*2)))\n",
    "number = 3\n",
    "slab1.append(Atom('O', slab1[number].position - (0., 0., d)))\n",
    "slab1.append(Atom('H', slab1[number].position - (0., 0., d*2)))\n",
    "\n",
    "for number in 17, 30, 43:\n",
    "    slab1.append(Atom('O', slab1[number].position + (0., 0., d)))\n",
    "for number in 16, 29, 42: \n",
    "    slab1.append(Atom('O', slab1[number].position - (0., 0., d)))\n",
    "\n",
    "#adding OH, 0.50 ML + O, 0.50 ML\n",
    "for number in 4, 17:\n",
    "    slab2.append(Atom('O', slab2[number].position + (0., 0., d)))\n",
    "    slab2.append(Atom('H', slab2[number].position + (0., 0., d*2)))\n",
    "for number in 3, 16: \n",
    "    slab2.append(Atom('O', slab2[number].position - (0., 0., d)))\n",
    "    slab2.append(Atom('H', slab2[number].position - (0., 0., d*2)))\n",
    "\n",
    "for number in 30, 43:\n",
    "    slab2.append(Atom('O', slab2[number].position + (0., 0., d)))\n",
    "for number in 29, 42: \n",
    "    slab2.append(Atom('O', slab2[number].position - (0., 0., d)))\n",
    "    \n",
    "#adding OH, 0.75 ML + O, 0.25 ML\n",
    "for number in 17, 30, 43:\n",
    "    slab3.append(Atom('O', slab3[number].position + (0., 0., d)))\n",
    "    slab3.append(Atom('H', slab3[number].position + (0., 0., d*2)))\n",
    "\n",
    "for number in 16, 29, 42: \n",
    "    slab3.append(Atom('O', slab3[number].position - (0., 0., d)))\n",
    "    slab3.append(Atom('H', slab3[number].position - (0., 0., d*2)))\n",
    "\n",
    "number = 4\n",
    "slab3.append(Atom('O', slab3[number].position + (0., 0., d)))\n",
    "number = 3\n",
    "slab3.append(Atom('O', slab3[number].position - (0., 0., d)))\n",
    "\n",
    "%mkdir oh_o\n",
    "%cd oh_o\n",
    "#write vasp file\n",
    "for f_name in slab:\n",
    "    #reordering structure sequences\n",
    "    globals()[f_name] = sort(globals()[f_name])\n",
    "    #view(globals()[f_name])\n",
    "    write('{}_OH_H.vasp'.format(f_name) , globals()[f_name], vasp5 = True)\n",
    "%cd .."
   ]
  },
  {
   "cell_type": "code",
   "execution_count": 8,
   "metadata": {},
   "outputs": [
    {
     "name": "stdout",
     "output_type": "stream",
     "text": [
      "/home/taehun/project_curho2/surf/surface_pourbaix/template_cu_ter/oh_h\n",
      "/home/taehun/project_curho2/surf/surface_pourbaix/template_cu_ter\n"
     ]
    }
   ],
   "source": [
    "#initialization\n",
    "slab = ['slab1', 'slab2', 'slab3']\n",
    "for name in slab:\n",
    "    globals()[name] = Atoms(supercell)\n",
    "#view(globals()[name])\n",
    "\n",
    "#defining adsorbate atoms\n",
    "d = 1.2\n",
    "\n",
    "#adding OH, 0.25 ML + H, 0.75 ML\n",
    "number = 4\n",
    "slab1.append(Atom('O', slab1[number].position + (0., 0., d)))\n",
    "slab1.append(Atom('H', slab1[number].position + (0., 0., d*2)))\n",
    "number = 3\n",
    "slab1.append(Atom('O', slab1[number].position - (0., 0., d)))\n",
    "slab1.append(Atom('H', slab1[number].position - (0., 0., d*2)))\n",
    "\n",
    "for number in 17, 30, 43:\n",
    "    slab1.append(Atom('H', slab1[number].position + (0., 0., d)))\n",
    "for number in 16, 29, 42: \n",
    "    slab1.append(Atom('H', slab1[number].position - (0., 0., d)))\n",
    "\n",
    "#adding OH, 0.50 ML + H, 0.50 ML\n",
    "for number in 4, 17:\n",
    "    slab2.append(Atom('O', slab2[number].position + (0., 0., d)))\n",
    "    slab2.append(Atom('H', slab2[number].position + (0., 0., d*2)))\n",
    "for number in 3, 16: \n",
    "    slab2.append(Atom('O', slab2[number].position - (0., 0., d)))\n",
    "    slab2.append(Atom('H', slab2[number].position - (0., 0., d*2)))\n",
    "\n",
    "for number in 30, 43:\n",
    "    slab2.append(Atom('H', slab2[number].position + (0., 0., d)))\n",
    "for number in 29, 42: \n",
    "    slab2.append(Atom('H', slab2[number].position - (0., 0., d)))\n",
    "    \n",
    "#adding OH, 0.75 ML + H, 0.25 ML\n",
    "for number in 17, 30, 43:\n",
    "    slab3.append(Atom('O', slab3[number].position + (0., 0., d)))\n",
    "    slab3.append(Atom('H', slab3[number].position + (0., 0., d*2)))\n",
    "\n",
    "for number in 16, 29, 42: \n",
    "    slab3.append(Atom('O', slab3[number].position - (0., 0., d)))\n",
    "    slab3.append(Atom('H', slab3[number].position - (0., 0., d*2)))\n",
    "\n",
    "number = 4\n",
    "slab3.append(Atom('H', slab3[number].position + (0., 0., d)))\n",
    "number = 3\n",
    "slab3.append(Atom('H', slab3[number].position - (0., 0., d)))\n",
    "\n",
    "%mkdir oh_h\n",
    "%cd oh_h\n",
    "#write vasp file\n",
    "for f_name in slab:\n",
    "    #reordering structure sequences\n",
    "    globals()[f_name] = sort(globals()[f_name])\n",
    "    #view(globals()[f_name])\n",
    "    write('{}_OH_H.vasp'.format(f_name) , globals()[f_name], vasp5 = True)\n",
    "%cd .."
   ]
  }
 ],
 "metadata": {
  "kernelspec": {
   "display_name": "Python 3",
   "language": "python",
   "name": "python3"
  },
  "language_info": {
   "codemirror_mode": {
    "name": "ipython",
    "version": 3
   },
   "file_extension": ".py",
   "mimetype": "text/x-python",
   "name": "python",
   "nbconvert_exporter": "python",
   "pygments_lexer": "ipython3",
   "version": "3.8.3"
  }
 },
 "nbformat": 4,
 "nbformat_minor": 4
}
